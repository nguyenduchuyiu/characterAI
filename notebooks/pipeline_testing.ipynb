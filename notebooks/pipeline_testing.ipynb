{
 "cells": [
  {
   "cell_type": "markdown",
   "metadata": {},
   "source": [
    "# Data Processing Experiments\n",
    "\n",
    "## 1. Setup và Import"
   ]
  },
  {
   "cell_type": "code",
   "execution_count": 1,
   "metadata": {},
   "outputs": [
    {
     "name": "stderr",
     "output_type": "stream",
     "text": [
      "/home/huy/anaconda3/envs/characterAI/lib/python3.10/site-packages/tqdm/auto.py:21: TqdmWarning: IProgress not found. Please update jupyter and ipywidgets. See https://ipywidgets.readthedocs.io/en/stable/user_install.html\n",
      "  from .autonotebook import tqdm as notebook_tqdm\n"
     ]
    }
   ],
   "source": [
    "import sys\n",
    "sys.path.append('..')\n",
    "\n",
    "from src.data.preprocessing import DataPreprocessor\n",
    "from src.data.chunking import DocumentChunker\n",
    "from src.retrieval.vector_store import VectorStore\n",
    "\n",
    "from pathlib import Path\n",
    "import pandas as pd\n",
    "import numpy as np\n",
    "from tqdm import tqdm\n",
    "import matplotlib.pyplot as plt\n",
    "import seaborn as sns"
   ]
  },
  {
   "cell_type": "markdown",
   "metadata": {},
   "source": [
    "## 2. Load và Preprocessing Data"
   ]
  },
  {
   "cell_type": "code",
   "execution_count": 2,
   "metadata": {},
   "outputs": [
    {
     "name": "stderr",
     "output_type": "stream",
     "text": [
      "INFO:src.data.preprocessing:Processed 18 chapters from ../data/raw/novels/Harry Potter and the Chamber of Secrets.txt\n"
     ]
    },
    {
     "name": "stdout",
     "output_type": "stream",
     "text": [
      "Successfully processed 18 chapters\n",
      "\n",
      "Chapter 1: The Worst Birthday\n",
      "Length: 14563 characters\n",
      "\n",
      "Sample text:\n",
      "Not for the first time, an argument had broken out over breakfast at number four, Privet Drive. Mr. Vernon Dursley had been woken in the early hours of the morning by a loud, hooting noise from his nephew Harry’s room. “Third time this week!” he roared across the table. “If you can’t control that owl, it’ll have to go!” Harry tried, yet again, to explain. “She’s bored,” he said. “She’s used to flying around outside. If I could just let her out at night —” “Do I look stupid?” snarled Uncle Vernon...\n"
     ]
    }
   ],
   "source": [
    "# Load and process sample novel\n",
    "SAMPLE_PATH = '../data/raw/novels/Harry Potter and the Chamber of Secrets.txt'\n",
    "\n",
    "def display_sample_chapter(chapters, chapter_idx=0, sample_length=500):\n",
    "    \"\"\"Helper function to display chapter sample\"\"\"\n",
    "    if chapters and len(chapters) > chapter_idx:\n",
    "        chapter = chapters[chapter_idx]\n",
    "        print(f\"Chapter {chapter['chapter_number']}: {chapter['title']}\")\n",
    "        print(f\"Length: {chapter['length']} characters\")\n",
    "        print(f\"\\nSample text:\\n{chapter['text'][:sample_length]}...\")\n",
    "    else:\n",
    "        print(\"No chapters found or invalid chapter index\")\n",
    "\n",
    "try:\n",
    "    # Initialize preprocessor\n",
    "    preprocessor = DataPreprocessor(Path('../data/raw'))\n",
    "    \n",
    "    # Read and preprocess the file\n",
    "    with open(SAMPLE_PATH, 'r', encoding='utf-8') as f:\n",
    "        raw_text = f.read()\n",
    "    \n",
    "    # Process the text into chapters\n",
    "    chapters = preprocessor.process_novel(SAMPLE_PATH)\n",
    "    \n",
    "    # Display results\n",
    "    print(f\"Successfully processed {len(chapters)} chapters\\n\")\n",
    "    display_sample_chapter(chapters)\n",
    "    \n",
    "except FileNotFoundError:\n",
    "    print(f\"Error: File not found at {SAMPLE_PATH}\")\n",
    "    print(\"Please ensure the novel file exists in the correct location\")\n",
    "except Exception as e:\n",
    "    print(f\"Error processing novel: {str(e)}\")"
   ]
  },
  {
   "cell_type": "code",
   "execution_count": 3,
   "metadata": {},
   "outputs": [
    {
     "data": {
      "text/plain": [
       "'Not for the first time, an argument had broken out over breakfast at number four, Privet Drive. Mr. Vernon Dursley had been woken in the early hours of the morning by a loud, hooting noise from his nephew Harry’s room. “Third time this week!” he roared across the table. “If you can’t control that owl, it’ll have to go!” Harry tried, yet again, to explain. “She’s bored,” he said. “She’s used to flying around outside. If I could just let her out at night —” “Do I look stupid?” snarled Uncle Vernon, a bit of fried egg dangling from his bushy mustache. “I know what’ll happen if that owl’s let out.” He exchanged dark looks with his wife, Petunia. Harry tried to argue back but his words were drowned by a long, loud belch from the Dursleys’ son, Dudley. “I want more bacon.” “There’s more in the frying pan, sweetums,” said Aunt Petunia, turning misty eyes on her massive son. “We must build you up while we’ve got the chance. … I don’t like the sound of that school food. …” “Nonsense, Petunia, I never went hungry when I was at Smeltings,” said Uncle Vernon heartily. “Dudley gets enough, don’t you, son?” Dudley, who was so large his bottom drooped over either side of the kitchen chair, grinned and turned to Harry. “Pass the frying pan.” “You’ve forgotten the magic word,” said Harry irritably. The effect of this simple sentence on the rest of the family was incredible: Dudley gasped and fell off his chair with a crash that shook the whole kitchen; Mrs. Dursley gave a small scream and clapped her hands to her mouth; Mr. Dursley jumped to his feet, veins throbbing in his temples. “I meant ‘please’!” said Harry quickly. “I didn’t mean —” “WHAT HAVE I TOLD YOU,” thundered his uncle, spraying spit over the table, “ABOUT SAYING THE ‘M’ WORD IN OUR HOUSE?” “But I —” “HOW DARE YOU THREATEN DUDLEY!” roared Uncle Vernon, pounding the table with his fist. “I just —” “I WARNED YOU! I WILL NOT TOLERATE MENTION OF YOUR ABNORMALITY UNDER THIS ROOF!” Harry stared from his purple-faced uncle to his pale aunt, who was trying to heave Dudley to his feet. “All right,” said Harry, “all right …” Uncle Vernon sat back down, breathing like a winded rhinoceros and watching Harry closely out of the corners of his small, sharp eyes. Ever since Harry had come home for the summer holidays, Uncle Vernon had been treating him like a bomb that might go off at any moment, because Harry Potter wasn’t a normal boy. As a matter of fact, he was as not normal as it is possible to be. Harry Potter was a wizard — a wizard fresh from his first year at Hogwarts School of Witchcraft and Wizardry. And if the Dursleys were unhappy to have him back for the holidays, it was nothing to how Harry felt. He missed Hogwarts so much it was like having a constant stomachache. He missed the castle, with its secret passageways and ghosts, his classes (though perhaps not Snape, the Potions master), the mail arriving by owl, eating banquets in the Great Hall, sleeping in his four-poster bed in the tower dormitory, visiting the gamekeeper, Hagrid, in his cabin next to the Forbidden Forest in the grounds, and, especially, Quidditch, the most popular sport in the wizarding world (six tall goal posts, four flying balls, and fourteen players on broomsticks). All Harry’s spellbooks, his wand, robes, cauldron, and top-of-the-line Nimbus Two Thousand broomstick had been locked in a cupboard under the stairs by Uncle Vernon the instant Harry had come home. What did the Dursleys care if Harry lost his place on the House Quidditch team because he hadn’t practiced all summer? What was it to the Dursleys if Harry went back to school without any of his homework done? The Dursleys were what wizards called Muggles (not a drop of magical blood in their veins), and as far as they were concerned, having a wizard in the family was a matter of deepest shame. Uncle Vernon had even padlocked Harry’s owl, Hedwig, inside her cage, to stop her from carrying messages to anyone in the wizarding world. Harry looked nothing like the rest of the family. Uncle Vernon was large and neckless, with an enormous black mustache; Aunt Petunia was horse-faced and bony; Dudley was blond, pink, and porky. Harry, on the other hand, was small and skinny, with brilliant green eyes and jet-black hair that was always untidy. He wore round glasses, and on his forehead was a thin, lightning-shaped scar. It was this scar that made Harry so particularly unusual, even for a wizard. This scar was the only hint of Harry’s very mysterious past, of the reason he had been left on the Dursleys’ doorstep eleven years before. At the age of one year old, Harry had somehow survived a curse from the greatest Dark sorcerer of all time, Lord Voldemort, whose name most witches and wizards still feared to speak. Harry’s parents had died in Voldemort’s attack, but Harry had escaped with his lightning scar, and somehow — nobody understood why — Voldemort’s powers had been destroyed the instant he had failed to kill Harry. So Harry had been brought up by his dead mother’s sister and her husband. He had spent ten years with the Dursleys, never understanding why he kept making odd things happen without meaning to, believing the Dursleys’ story that he had got his scar in the car crash that had killed his parents. And then, exactly a year ago, Hogwarts had written to Harry, and the whole story had come out. Harry had taken up his place at wizard school, where he and his scar were famous … but now the school year was over, and he was back with the Dursleys for the summer, back to being treated like a dog that had rolled in something smelly. The Dursleys hadn’t even remembered that today happened to be Harry’s twelfth birthday. Of course, his hopes hadn’t been high; they’d never given him a real present, let alone a cake — but to ignore it completely … At that moment, Uncle Vernon cleared his throat importantly and said, “Now, as we all know, today is a very important day.” Harry looked up, hardly daring to believe it. “This could well be the day I make the biggest deal of my career,” said Uncle Vernon. Harry went back to his toast. Of course, he thought bitterly, Uncle Vernon was talking about the stupid dinner party. He’d been talking of nothing else for two weeks. Some rich builder and his wife were coming to dinner and Uncle Vernon was hoping to get a huge order from him (Uncle Vernon’s company made drills). “I think we should run through the schedule one more time,” said Uncle Vernon. “We should all be in position at eight o’clock. Petunia, you will be — ?” “In the lounge,” said Aunt Petunia promptly, “waiting to welcome them graciously to our home.” “Good, good. And Dudley?” “I’ll be waiting to open the door.” Dudley put on a foul, simpering smile. “May I take your coats, Mr. and Mrs. Mason?” “They’ll love him!” cried Aunt Petunia rapturously. “Excellent, Dudley,” said Uncle Vernon. Then he rounded on Harry. “And you?” “I’ll be in my bedroom, making no noise and pretending I’m not there,” said Harry tonelessly. “Exactly,” said Uncle Vernon nastily. “I will lead them into the lounge, introduce you, Petunia, and pour them drinks. At eight-fifteen —” “I’ll announce dinner,” said Aunt Petunia. “And, Dudley, you’ll say —” “May I take you through to the dining room, Mrs. Mason?” said Dudley, offering his fat arm to an invisible woman. “My perfect little gentleman!” sniffed Aunt Petunia. “And you?” said Uncle Vernon viciously to Harry. “I’ll be in my room, making no noise and pretending I’m not there,” said Harry dully. “Precisely. Now, we should aim to get in a few good compliments at dinner. Petunia, any ideas?” “Vernon tells me you’re a wonderful golfer, Mr. Mason. … Do tell me where you bought your dress, Mrs. Mason. …” “Perfect … Dudley?” “How about — ‘We had to write an essay about our hero at school, Mr. Mason, and I wrote about you.’ ” This was too much for both Aunt Petunia and Harry. Aunt Petunia burst into tears and hugged her son, while Harry ducked under the table so they wouldn’t see him laughing. “And you, boy?” Harry fought to keep his face straight as he emerged. “I’ll be in my room, making no noise and pretending I’m not there,” he said. “Too right, you will,” said Uncle Vernon forcefully. “The Masons don’t know anything about you and it’s going to stay that way. When dinner’s over, you take Mrs. Mason back to the lounge for coffee, Petunia, and I’ll bring the subject around to drills. With any luck, I’ll have the deal signed and sealed before the news at ten. We’ll be shopping for a vacation home in Majorca this time tomorrow.” Harry couldn’t feel too excited about this. He didn’t think the Dursleys would like him any better in Majorca than they did on Privet Drive. “Right — I’m off into town to pick up the dinner jackets for Dudley and me. And you,” he snarled at Harry. “You stay out of your aunt’s way while she’s cleaning.” Harry left through the back door. It was a brilliant, sunny day. He crossed the lawn, slumped down on the garden bench, and sang under his breath: “Happy birthday to me … happy birthday to me …” No cards, no presents, and he would be spending the evening pretending not to exist. He gazed miserably into the hedge. He had never felt so lonely. More than anything else at Hogwarts, more even than playing Quidditch, Harry missed his best friends, Ron Weasley and Hermione Granger. They, however, didn’t seem to be missing him at all. Neither of them had written to him all summer, even though Ron had said he was going to ask Harry to come and stay. Countless times, Harry had been on the point of unlocking Hedwig’s cage by magic and sending her to Ron and Hermione with a letter, but it wasn’t worth the risk. Underage wizards weren’t allowed to use magic outside of school. Harry hadn’t told the Dursleys this; he knew it was only their terror that he might turn them all into dung beetles that stopped them from locking him in the cupboard under the stairs with his wand and broomstick. For the first couple of weeks back, Harry had enjoyed muttering nonsense words under his breath and watching Dudley tearing out of the room as fast as his fat legs would carry him. But the long silence from Ron and Hermione had made Harry feel so cut off from the magical world that even taunting Dudley had lost its appeal — and now Ron and Hermione had forgotten his birthday. What wouldn’t he give now for a message from Hogwarts? From any witch or wizard? He’d almost be glad of a sight of his archenemy, Draco Malfoy, just to be sure it hadn’t all been a dream. … Not that his whole year at Hogwarts had been fun. At the very end of last term, Harry had come face-to-face with none other than Lord Voldemort himself. Voldemort might be a ruin of his former self, but he was still terrifying, still cunning, still determined to regain power. Harry had slipped through Voldemort’s clutches for a second time, but it had been a narrow escape, and even now, weeks later, Harry kept waking in the night, drenched in cold sweat, wondering where Voldemort was now, remembering his livid face, his wide, mad eyes — Harry suddenly sat bolt upright on the garden bench. He had been staring absent-mindedly into the hedge — and the hedge was staring back. Two enormous green eyes had appeared among the leaves. Harry jumped to his feet just as a jeering voice floated across the lawn. “I know what day it is,” sang Dudley, waddling toward him. The huge eyes blinked and vanished. “What?” said Harry, not taking his eyes off the spot where they had been. “I know what day it is,” Dudley repeated, coming right up to him. “Well done,” said Harry. “So you’ve finally learned the days of the week.” “Today’s your birthday,” sneered Dudley. “How come you haven’t got any cards? Haven’t you even got friends at that freak place?” “Better not let your mum hear you talking about my school,” said Harry coolly. Dudley hitched up his trousers, which were slipping down his fat bottom. “Why’re you staring at the hedge?” he said suspiciously. “I’m trying to decide what would be the best spell to set it on fire,” said Harry. Dudley stumbled backward at once, a look of panic on his fat face. “You c-can’t — Dad told you you’re not to do m-magic — he said he’ll chuck you out of the house — and you haven’t got anywhere else to go — you haven’t got any friends to take you —” “Jiggery pokery!” said Harry in a fierce voice. “Hocus pocus — squiggly wiggly —” “MUUUUUUM!” howled Dudley, tripping over his feet as he dashed back toward the house. “MUUUUM! He’s doing you know what!” Harry paid dearly for his moment of fun. As neither Dudley nor the hedge was in any way hurt, Aunt Petunia knew he hadn’t really done magic, but he still had to duck as she aimed a heavy blow at his head with the soapy frying pan. Then she gave him work to do, with the promise he wouldn’t eat again until he’d finished. While Dudley lolled around watching and eating ice cream, Harry cleaned the windows, washed the car, mowed the lawn, trimmed the flowerbeds, pruned and watered the roses, and repainted the garden bench. The sun blazed overhead, burning the back of his neck. Harry knew he shouldn’t have risen to Dudley’s bait, but Dudley had said the very thing Harry had been thinking himself … maybe he didn’t have any friends at Hogwarts. … Wish they could see famous Harry Potter now, he thought savagely as he spread manure on the flower beds, his back aching, sweat running down his face. It was half past seven in the evening when at last, exhausted, he heard Aunt Petunia calling him. “Get in here! And walk on the newspaper!” Harry moved gladly into the shade of the gleaming kitchen. On top of the fridge stood tonight’s pudding: a huge mound of whipped cream and sugared violets. A loin of roast pork was sizzling in the oven. “Eat quickly! The Masons will be here soon!” snapped Aunt Petunia, pointing to two slices of bread and a lump of cheese on the kitchen table. She was already wearing a salmon-pink cocktail dress. Harry washed his hands and bolted down his pitiful supper. The moment he had finished, Aunt Petunia whisked away his plate. “Upstairs! Hurry!” As he passed the door to the living room, Harry caught a glimpse of Uncle Vernon and Dudley in bow ties and dinner jackets. He had only just reached the upstairs landing when the doorbell rang and Uncle Vernon’s furious face appeared at the foot of the stairs. “Remember, boy — one sound —” Harry crossed to his bedroom on tiptoe, slipped inside, closed the door, and turned to collapse on his bed. The trouble was, there was already someone sitting on it.'"
      ]
     },
     "execution_count": 3,
     "metadata": {},
     "output_type": "execute_result"
    }
   ],
   "source": [
    "chapters[0]['text']"
   ]
  },
  {
   "cell_type": "markdown",
   "metadata": {},
   "source": [
    "### 2.1 Phân tích độ dài chapters"
   ]
  },
  {
   "cell_type": "code",
   "execution_count": 4,
   "metadata": {},
   "outputs": [
    {
     "data": {
      "image/png": "[encoded data removed]",
      "text/plain": [
       "<Figure size 1000x500 with 1 Axes>"
      ]
     },
     "metadata": {},
     "output_type": "display_data"
    },
    {
     "name": "stdout",
     "output_type": "stream",
     "text": [
      "Average chapter length: 27135 characters\n",
      "Std dev: 5360 characters\n"
     ]
    }
   ],
   "source": [
    "chapter_lengths = [chapter[\"length\"] for chapter in chapters]\n",
    "\n",
    "plt.figure(figsize=(10, 5))\n",
    "plt.plot(chapter_lengths)\n",
    "plt.title('Chapter Lengths')\n",
    "plt.xlabel('Chapter Number')\n",
    "plt.ylabel('Length (characters)')\n",
    "plt.show()\n",
    "\n",
    "print(f\"Average chapter length: {np.mean(chapter_lengths):.0f} characters\")\n",
    "print(f\"Std dev: {np.std(chapter_lengths):.0f} characters\")"
   ]
  },
  {
   "cell_type": "markdown",
   "metadata": {},
   "source": [
    "## 3. Chunking Experiments"
   ]
  },
  {
   "cell_type": "code",
   "execution_count": 3,
   "metadata": {},
   "outputs": [
    {
     "name": "stderr",
     "output_type": "stream",
     "text": [
      "INFO:src.data.chunking:Successfully initialized Gemini model\n"
     ]
    },
    {
     "name": "stdout",
     "output_type": "stream",
     "text": [
      "Processing Chapter: The Worst Birthday\n",
      "\n"
     ]
    },
    {
     "name": "stderr",
     "output_type": "stream",
     "text": [
      "INFO:src.data.chunking:Successfully created 11 chunks for Chapter 1\n"
     ]
    },
    {
     "name": "stdout",
     "output_type": "stream",
     "text": [
      "\n",
      "Chunk 1:\n",
      "Length: 2233 characters\n",
      "\n",
      "Summary:\n",
      "Harry is berated by his uncle Vernon for mentioning magic at breakfast. The Dursleys are terrified of magic and Harry's wizarding abilities.\n",
      "\n",
      "Text preview:\n",
      "Not for the first time, an argument had broken out over breakfast at number four, Privet Drive. Mr. Vernon Dursley had been woken in the early hours of the morning by a loud, hooting noise from his ne...\n",
      "--------------------------------------------------------------------------------\n",
      "\n",
      "Chunk 2:\n",
      "Length: 1744 characters\n",
      "\n",
      "Summary:\n",
      "Harry is miserable being back with the Dursleys, missing Hogwarts and his friends. The Dursleys are ashamed of Harry being a wizard and do everything they can to keep him from practicing magic or connecting with the wizarding world.\n",
      "\n",
      "Text preview:\n",
      "Ever since Harry had come home for the summer holidays, Uncle Vernon had been treating him like a bomb that might go off at any moment, because Harry Potter wasn’t a normal boy. As a matter of fact, h...\n",
      "--------------------------------------------------------------------------------\n",
      "\n",
      "Chunk 3:\n",
      "Length: 1625 characters\n",
      "\n",
      "Summary:\n",
      "The chapter describes Harry's physical appearance and how he is different from the Dursleys.  It reveals his mysterious past and how he survived a curse from Lord Voldemort.\n",
      "\n",
      "Text preview:\n",
      "Harry looked nothing like the rest of the family. Uncle Vernon was large and neckless, with an enormous black mustache; Aunt Petunia was horse-faced and bony; Dudley was blond, pink, and porky. Harry,...\n",
      "--------------------------------------------------------------------------------\n",
      "\n",
      "Chunk 4:\n",
      "Length: 1231 characters\n",
      "\n",
      "Summary:\n",
      "It's Harry's 12th birthday, but the Dursleys completely ignore it. They are instead focused on a business dinner party with a potential client.\n",
      "\n",
      "Text preview:\n",
      "The Dursleys hadn’t even remembered that today happened to be Harry’s twelfth birthday. Of course, his hopes hadn’t been high; they’d never given him a real present, let alone a cake — but to ignore i...\n",
      "--------------------------------------------------------------------------------\n",
      "\n",
      "Chunk 5:\n",
      "Length: 1729 characters\n",
      "\n",
      "Summary:\n",
      "The Dursleys meticulously plan the dinner party, making Dudley rehearse his lines and instructing Harry to stay out of sight. Vernon is focused on securing a business deal and hopes to celebrate with a vacation in Majorca.\n",
      "\n",
      "Text preview:\n",
      "\"Excellent, Dudley,” said Uncle Vernon. Then he rounded on Harry. “And you?” “I’ll be in my bedroom, making no noise and pretending I’m not there,” said Harry tonelessly. “Exactly,” said Uncle Vernon ...\n",
      "--------------------------------------------------------------------------------\n",
      "\n",
      "Chunk 6:\n",
      "Length: 1179 characters\n",
      "\n",
      "Summary:\n",
      "Harry is deeply saddened that his friends Ron and Hermione haven't written to him all summer.  He feels isolated and lonely, missing the magical world and his friends at Hogwarts.\n",
      "\n",
      "Text preview:\n",
      "Harry couldn’t feel too excited about this. He didn’t think the Dursleys would like him any better in Majorca than they did on Privet Drive. “Right — I’m off into town to pick up the dinner jackets fo...\n",
      "--------------------------------------------------------------------------------\n",
      "\n",
      "Chunk 7:\n",
      "Length: 1378 characters\n",
      "\n",
      "Summary:\n",
      "Harry reflects on his time at Hogwarts, including his encounter with Voldemort at the end of the school year, and how his experience has left him feeling vulnerable and anxious.\n",
      "\n",
      "Text preview:\n",
      "Harry hadn’t told the Dursleys this; he knew it was only their terror that he might turn them all into dung beetles that stopped them from locking him in the cupboard under the stairs with his wand an...\n",
      "--------------------------------------------------------------------------------\n",
      "\n",
      "Chunk 8:\n",
      "Length: 1011 characters\n",
      "\n",
      "Summary:\n",
      "Dudley taunts Harry about his birthday and lack of friends.  Harry scares Dudley by pretending to cast a spell on the hedge.\n",
      "\n",
      "Text preview:\n",
      "He had been staring absent-mindedly into the hedge — and the hedge was staring back. Two enormous green eyes had appeared among the leaves. Harry jumped to his feet just as a jeering voice floated acr...\n",
      "--------------------------------------------------------------------------------\n",
      "\n",
      "Chunk 9:\n",
      "Length: 707 characters\n",
      "\n",
      "Summary:\n",
      "Dudley runs to his mother, terrified of Harry's supposed magic.  Aunt Petunia punishes Harry with chores.\n",
      "\n",
      "Text preview:\n",
      "\"You c-can’t — Dad told you you’re not to do m-magic — he said he’ll chuck you out of the house — and you haven’t got anywhere else to go — you haven’t got any friends to take you —” “Jiggery pokery!”...\n",
      "--------------------------------------------------------------------------------\n",
      "\n",
      "Chunk 10:\n",
      "Length: 1117 characters\n",
      "\n",
      "Summary:\n",
      "Harry is forced to do tedious chores while Dudley enjoys ice cream.  He feels dejected and thinks he might be alone at Hogwarts.  The Dursleys prepare for the dinner party.\n",
      "\n",
      "Text preview:\n",
      "While Dudley lolled around watching and eating ice cream, Harry cleaned the windows, washed the car, mowed the lawn, trimmed the flowerbeds, pruned and watered the roses, and repainted the garden benc...\n",
      "--------------------------------------------------------------------------------\n",
      "\n",
      "Chunk 11:\n",
      "Length: 599 characters\n",
      "\n",
      "Summary:\n",
      "The Dursleys are ready for the dinner party.  Harry is sent to his room and prepares to spend the evening unseen.\n",
      "\n",
      "Text preview:\n",
      "Harry washed his hands and bolted down his pitiful supper. The moment he had finished, Aunt Petunia whisked away his plate. “Upstairs! Hurry!” As he passed the door to the living room, Harry caught a ...\n",
      "--------------------------------------------------------------------------------\n"
     ]
    }
   ],
   "source": [
    "# Initialize chunker with Gemini API\n",
    "chunker = DocumentChunker()\n",
    "\n",
    "# Test with first chapter\n",
    "test_chapter = chapters[0]\n",
    "print(f\"Processing Chapter: {test_chapter['title']}\\n\")\n",
    "\n",
    "# Create chunks using Gemini\n",
    "chunks = chunker.create_chunks(test_chapter)\n",
    "\n",
    "# Display results\n",
    "for i, chunk in enumerate(chunks):\n",
    "    print(f\"\\nChunk {i+1}:\")\n",
    "    print(f\"Length: {len(chunk['text'])} characters\")\n",
    "    print(\"\\nSummary:\")\n",
    "    print(chunk['summary'])\n",
    "    print(\"\\nText preview:\")\n",
    "    print(chunk['text'][:200] + \"...\")\n",
    "    print(\"-\" * 80)\n",
    "\n",
    "# Process all chapters if the test looks good\n",
    "# all_chunks = chunker.chunk_chapters(chapters)"
   ]
  },
  {
   "cell_type": "markdown",
   "metadata": {},
   "source": [
    "## 4. Vector Search Testing"
   ]
  },
  {
   "cell_type": "code",
   "execution_count": null,
   "metadata": {},
   "outputs": [],
   "source": [
    "# Initialize vector store\n",
    "vector_store = VectorStore('../data/embeddings')\n",
    "\n",
    "# Add chunks to vector store\n",
    "documents = [chunk['text'] for chunk in chunks]\n",
    "metadatas = [chunk['metadata'] for chunk in chunks]\n",
    "ids = [f\"chunk_{i}\" for i in range(len(chunks))]\n",
    "\n",
    "vector_store.add_documents(\n",
    "    collection_name=\"novels\",\n",
    "    documents=documents,\n",
    "    metadatas=metadatas,\n",
    "    ids=ids\n",
    ")"
   ]
  },
  {
   "cell_type": "code",
   "execution_count": null,
   "metadata": {},
   "outputs": [],
   "source": [
    "# Test queries\n",
    "test_queries = [\n",
    "    \"Harry's first day at Hogwarts\",\n",
    "    \"Conversation with Ron\",\n",
    "    \"Description of magic spells\"\n",
    "]\n",
    "\n",
    "for query in test_queries:\n",
    "    print(f\"\\nQuery: {query}\")\n",
    "    results = vector_store.search(\"novels\", query)\n",
    "    \n",
    "    for i, (doc, score) in enumerate(zip(results['documents'][0], results['distances'][0])):\n",
    "        print(f\"\\nResult {i+1} (score: {score:.3f}):\\n{doc[:200]}...\")"
   ]
  },
  {
   "cell_type": "markdown",
   "metadata": {},
   "source": [
    "## 5. Phân tích kết quả\n",
    "\n",
    "### Observations:\n",
    "1. Chunk size và overlap:\n",
    "   - ...\n",
    "   \n",
    "2. Chất lượng chunks:\n",
    "   - ...\n",
    "   \n",
    "3. Vector search:\n",
    "   - ...\n",
    "\n",
    "### Recommendations:\n",
    "1. ...\n",
    "2. ...\n",
    "3. ..."
   ]
  }
 ],
 "metadata": {
  "kernelspec": {
   "display_name": "Python 3",
   "language": "python",
   "name": "python3"
  },
  "language_info": {
   "codemirror_mode": {
    "name": "ipython",
    "version": 3
   },
   "file_extension": ".py",
   "mimetype": "text/x-python",
   "name": "python",
   "nbconvert_exporter": "python",
   "pygments_lexer": "ipython3",
   "version": "3.10.12"
  }
 },
 "nbformat": 4,
 "nbformat_minor": 2
}
